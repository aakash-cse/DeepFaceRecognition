{
 "cells": [
  {
   "cell_type": "code",
   "execution_count": 1,
   "metadata": {},
   "outputs": [],
   "source": [
    "import tensorflow as tf\n",
    "gpus = tf.config.experimental.list_physical_devices('GPU')\n",
    "if gpus:\n",
    "    try:\n",
    "        for gpu in gpus:\n",
    "            tf.config.experimental.set_memory_growth(gpu, True)\n",
    "    except RuntimeError as e:\n",
    "        print(e)"
   ]
  },
  {
   "cell_type": "code",
   "execution_count": 2,
   "metadata": {},
   "outputs": [],
   "source": [
    "import tensorflow as tf\n",
    "gpus = tf.config.experimental.list_physical_devices('GPU')\n",
    "if gpus:\n",
    "    try:\n",
    "        tf.config.experimental.set_virtual_device_configuration(gpus[0], [tf.config.experimental.VirtualDeviceConfiguration(memory_limit=1024)])\n",
    "    except RuntimeError as e:\n",
    "        print(e)"
   ]
  },
  {
   "cell_type": "code",
   "execution_count": 3,
   "metadata": {
    "_cell_guid": "79c7e3d0-c299-4dcb-8224-4455121ee9b0",
    "_uuid": "d629ff2d2480ee46fbb7e2d37f6b5fab8052498a",
    "execution": {
     "iopub.execute_input": "2020-08-10T16:50:35.828971Z",
     "iopub.status.busy": "2020-08-10T16:50:35.827976Z",
     "iopub.status.idle": "2020-08-10T16:50:40.596614Z",
     "shell.execute_reply": "2020-08-10T16:50:40.595867Z"
    },
    "papermill": {
     "duration": 4.787435,
     "end_time": "2020-08-10T16:50:40.596755",
     "exception": false,
     "start_time": "2020-08-10T16:50:35.809320",
     "status": "completed"
    },
    "tags": []
   },
   "outputs": [],
   "source": [
    "from tensorflow.keras.layers import Input,Lambda,Dense,Flatten\n",
    "from tensorflow.keras.models import Model\n",
    "from tensorflow.keras.applications.vgg16 import VGG16\n",
    "from tensorflow.keras.applications.vgg16 import preprocess_input\n",
    "from tensorflow.keras.preprocessing import image\n",
    "from tensorflow.keras.preprocessing.image import ImageDataGenerator\n",
    "from tensorflow.keras.models import Sequential\n",
    "import numpy as np\n",
    "from glob import glob\n",
    "import matplotlib.pyplot as plt"
   ]
  },
  {
   "cell_type": "code",
   "execution_count": 4,
   "metadata": {
    "execution": {
     "iopub.execute_input": "2020-08-10T16:50:40.630426Z",
     "iopub.status.busy": "2020-08-10T16:50:40.628758Z",
     "iopub.status.idle": "2020-08-10T16:50:40.631145Z",
     "shell.execute_reply": "2020-08-10T16:50:40.631674Z"
    },
    "papermill": {
     "duration": 0.021585,
     "end_time": "2020-08-10T16:50:40.631827",
     "exception": false,
     "start_time": "2020-08-10T16:50:40.610242",
     "status": "completed"
    },
    "tags": []
   },
   "outputs": [],
   "source": [
    "IMAGE_SIZE = [224,224] # Lets us set the image size as 224X224\n",
    "train_path = \"Dataset/Train\"\n",
    "test_path = \"Dataset/Test\""
   ]
  },
  {
   "cell_type": "code",
   "execution_count": 5,
   "metadata": {
    "execution": {
     "iopub.execute_input": "2020-08-10T16:50:40.663824Z",
     "iopub.status.busy": "2020-08-10T16:50:40.663111Z",
     "iopub.status.idle": "2020-08-10T16:50:45.294455Z",
     "shell.execute_reply": "2020-08-10T16:50:45.293073Z"
    },
    "papermill": {
     "duration": 4.649608,
     "end_time": "2020-08-10T16:50:45.294644",
     "exception": false,
     "start_time": "2020-08-10T16:50:40.645036",
     "status": "completed"
    },
    "tags": []
   },
   "outputs": [],
   "source": [
    "vgg = VGG16(input_shape=IMAGE_SIZE+[3],weights='imagenet',include_top=False)"
   ]
  },
  {
   "cell_type": "code",
   "execution_count": 6,
   "metadata": {
    "execution": {
     "iopub.execute_input": "2020-08-10T16:50:45.337230Z",
     "iopub.status.busy": "2020-08-10T16:50:45.336333Z",
     "iopub.status.idle": "2020-08-10T16:50:45.341886Z",
     "shell.execute_reply": "2020-08-10T16:50:45.341176Z"
    },
    "papermill": {
     "duration": 0.02872,
     "end_time": "2020-08-10T16:50:45.341999",
     "exception": false,
     "start_time": "2020-08-10T16:50:45.313279",
     "status": "completed"
    },
    "tags": []
   },
   "outputs": [],
   "source": [
    "for layers in vgg.layers:\n",
    "    layers.trainable = False\n",
    "    \n",
    "folder = glob('Dataset/Train/*')"
   ]
  },
  {
   "cell_type": "code",
   "execution_count": 7,
   "metadata": {
    "execution": {
     "iopub.execute_input": "2020-08-10T16:50:45.382245Z",
     "iopub.status.busy": "2020-08-10T16:50:45.381536Z",
     "iopub.status.idle": "2020-08-10T16:50:45.386469Z",
     "shell.execute_reply": "2020-08-10T16:50:45.385960Z"
    },
    "papermill": {
     "duration": 0.026718,
     "end_time": "2020-08-10T16:50:45.386604",
     "exception": false,
     "start_time": "2020-08-10T16:50:45.359886",
     "status": "completed"
    },
    "tags": []
   },
   "outputs": [
    {
     "name": "stdout",
     "output_type": "stream",
     "text": [
      "3\n"
     ]
    }
   ],
   "source": [
    "print(len(folder))"
   ]
  },
  {
   "cell_type": "code",
   "execution_count": 8,
   "metadata": {
    "execution": {
     "iopub.execute_input": "2020-08-10T16:50:45.431461Z",
     "iopub.status.busy": "2020-08-10T16:50:45.430846Z",
     "iopub.status.idle": "2020-08-10T16:50:45.437207Z",
     "shell.execute_reply": "2020-08-10T16:50:45.437684Z"
    },
    "papermill": {
     "duration": 0.031901,
     "end_time": "2020-08-10T16:50:45.437835",
     "exception": false,
     "start_time": "2020-08-10T16:50:45.405934",
     "status": "completed"
    },
    "tags": []
   },
   "outputs": [],
   "source": [
    "x = Flatten()(vgg.output)"
   ]
  },
  {
   "cell_type": "code",
   "execution_count": 9,
   "metadata": {
    "execution": {
     "iopub.execute_input": "2020-08-10T16:50:45.481667Z",
     "iopub.status.busy": "2020-08-10T16:50:45.480587Z",
     "iopub.status.idle": "2020-08-10T16:50:45.493076Z",
     "shell.execute_reply": "2020-08-10T16:50:45.492327Z"
    },
    "papermill": {
     "duration": 0.037604,
     "end_time": "2020-08-10T16:50:45.493189",
     "exception": false,
     "start_time": "2020-08-10T16:50:45.455585",
     "status": "completed"
    },
    "tags": []
   },
   "outputs": [],
   "source": [
    "prediction = Dense(len(folder),activation='softmax')(x)\n"
   ]
  },
  {
   "cell_type": "code",
   "execution_count": 10,
   "metadata": {
    "execution": {
     "iopub.execute_input": "2020-08-10T16:50:45.542682Z",
     "iopub.status.busy": "2020-08-10T16:50:45.540052Z",
     "iopub.status.idle": "2020-08-10T16:50:45.554049Z",
     "shell.execute_reply": "2020-08-10T16:50:45.555040Z"
    },
    "papermill": {
     "duration": 0.043785,
     "end_time": "2020-08-10T16:50:45.555243",
     "exception": false,
     "start_time": "2020-08-10T16:50:45.511458",
     "status": "completed"
    },
    "tags": []
   },
   "outputs": [
    {
     "name": "stdout",
     "output_type": "stream",
     "text": [
      "Model: \"model\"\n",
      "_________________________________________________________________\n",
      "Layer (type)                 Output Shape              Param #   \n",
      "=================================================================\n",
      "input_1 (InputLayer)         [(None, 224, 224, 3)]     0         \n",
      "_________________________________________________________________\n",
      "block1_conv1 (Conv2D)        (None, 224, 224, 64)      1792      \n",
      "_________________________________________________________________\n",
      "block1_conv2 (Conv2D)        (None, 224, 224, 64)      36928     \n",
      "_________________________________________________________________\n",
      "block1_pool (MaxPooling2D)   (None, 112, 112, 64)      0         \n",
      "_________________________________________________________________\n",
      "block2_conv1 (Conv2D)        (None, 112, 112, 128)     73856     \n",
      "_________________________________________________________________\n",
      "block2_conv2 (Conv2D)        (None, 112, 112, 128)     147584    \n",
      "_________________________________________________________________\n",
      "block2_pool (MaxPooling2D)   (None, 56, 56, 128)       0         \n",
      "_________________________________________________________________\n",
      "block3_conv1 (Conv2D)        (None, 56, 56, 256)       295168    \n",
      "_________________________________________________________________\n",
      "block3_conv2 (Conv2D)        (None, 56, 56, 256)       590080    \n",
      "_________________________________________________________________\n",
      "block3_conv3 (Conv2D)        (None, 56, 56, 256)       590080    \n",
      "_________________________________________________________________\n",
      "block3_pool (MaxPooling2D)   (None, 28, 28, 256)       0         \n",
      "_________________________________________________________________\n",
      "block4_conv1 (Conv2D)        (None, 28, 28, 512)       1180160   \n",
      "_________________________________________________________________\n",
      "block4_conv2 (Conv2D)        (None, 28, 28, 512)       2359808   \n",
      "_________________________________________________________________\n",
      "block4_conv3 (Conv2D)        (None, 28, 28, 512)       2359808   \n",
      "_________________________________________________________________\n",
      "block4_pool (MaxPooling2D)   (None, 14, 14, 512)       0         \n",
      "_________________________________________________________________\n",
      "block5_conv1 (Conv2D)        (None, 14, 14, 512)       2359808   \n",
      "_________________________________________________________________\n",
      "block5_conv2 (Conv2D)        (None, 14, 14, 512)       2359808   \n",
      "_________________________________________________________________\n",
      "block5_conv3 (Conv2D)        (None, 14, 14, 512)       2359808   \n",
      "_________________________________________________________________\n",
      "block5_pool (MaxPooling2D)   (None, 7, 7, 512)         0         \n",
      "_________________________________________________________________\n",
      "flatten (Flatten)            (None, 25088)             0         \n",
      "_________________________________________________________________\n",
      "dense (Dense)                (None, 3)                 75267     \n",
      "=================================================================\n",
      "Total params: 14,789,955\n",
      "Trainable params: 75,267\n",
      "Non-trainable params: 14,714,688\n",
      "_________________________________________________________________\n"
     ]
    }
   ],
   "source": [
    "model = Model(inputs=vgg.input,outputs=prediction)\n",
    "\n",
    "model.summary()"
   ]
  },
  {
   "cell_type": "code",
   "execution_count": 11,
   "metadata": {
    "execution": {
     "iopub.execute_input": "2020-08-10T16:50:45.609797Z",
     "iopub.status.busy": "2020-08-10T16:50:45.608625Z",
     "iopub.status.idle": "2020-08-10T16:50:45.614953Z",
     "shell.execute_reply": "2020-08-10T16:50:45.615454Z"
    },
    "papermill": {
     "duration": 0.039806,
     "end_time": "2020-08-10T16:50:45.615635",
     "exception": false,
     "start_time": "2020-08-10T16:50:45.575829",
     "status": "completed"
    },
    "tags": []
   },
   "outputs": [],
   "source": [
    "model.compile(loss='categorical_crossentropy',\n",
    "              optimizer='adam',\n",
    "              metrics=['accuracy']\n",
    "                )"
   ]
  },
  {
   "cell_type": "code",
   "execution_count": 12,
   "metadata": {
    "execution": {
     "iopub.execute_input": "2020-08-10T16:50:45.661928Z",
     "iopub.status.busy": "2020-08-10T16:50:45.661188Z",
     "iopub.status.idle": "2020-08-10T16:50:45.872135Z",
     "shell.execute_reply": "2020-08-10T16:50:45.872966Z"
    },
    "papermill": {
     "duration": 0.237664,
     "end_time": "2020-08-10T16:50:45.873184",
     "exception": false,
     "start_time": "2020-08-10T16:50:45.635520",
     "status": "completed"
    },
    "tags": []
   },
   "outputs": [
    {
     "name": "stdout",
     "output_type": "stream",
     "text": [
      "Found 300 images belonging to 3 classes.\n",
      "Found 90 images belonging to 3 classes.\n"
     ]
    }
   ],
   "source": [
    "train_datagen = ImageDataGenerator(rescale=1./255,shear_range=0.2,\n",
    "                                   zoom_range=0.2,horizontal_flip=True)\n",
    "test_datagen = ImageDataGenerator(rescale=1./255)\n",
    "\n",
    "training_set = train_datagen.flow_from_directory(train_path,\n",
    "                                                target_size=(224,224),\n",
    "                                                batch_size=32,\n",
    "                                                class_mode='categorical')\n",
    "test_set = test_datagen.flow_from_directory(test_path,\n",
    "                                                target_size=(224,224),\n",
    "                                                batch_size=32,\n",
    "                                                class_mode='categorical')"
   ]
  },
  {
   "cell_type": "code",
   "execution_count": 13,
   "metadata": {
    "execution": {
     "iopub.execute_input": "2020-08-10T16:50:45.923458Z",
     "iopub.status.busy": "2020-08-10T16:50:45.922632Z",
     "iopub.status.idle": "2020-08-10T16:51:21.013202Z",
     "shell.execute_reply": "2020-08-10T16:51:21.012233Z"
    },
    "papermill": {
     "duration": 35.118666,
     "end_time": "2020-08-10T16:51:21.013327",
     "exception": false,
     "start_time": "2020-08-10T16:50:45.894661",
     "status": "completed"
    },
    "tags": []
   },
   "outputs": [
    {
     "name": "stdout",
     "output_type": "stream",
     "text": [
      "Epoch 1/20\n",
      "1/1 - 2s - loss: 1.1248 - accuracy: 0.3438 - val_loss: 2.6717 - val_accuracy: 0.3438\n",
      "Epoch 2/20\n",
      "1/1 - 1s - loss: 2.6204 - accuracy: 0.3438 - val_loss: 0.7914 - val_accuracy: 0.5625\n",
      "Epoch 3/20\n",
      "1/1 - 0s - loss: 0.7062 - accuracy: 0.6250 - val_loss: 1.4927 - val_accuracy: 0.4375\n",
      "Epoch 4/20\n",
      "1/1 - 0s - loss: 1.2043 - accuracy: 0.5938 - val_loss: 1.4467 - val_accuracy: 0.3125\n",
      "Epoch 5/20\n",
      "1/1 - 0s - loss: 1.4340 - accuracy: 0.3750 - val_loss: 1.0878 - val_accuracy: 0.3750\n",
      "Epoch 6/20\n",
      "1/1 - 0s - loss: 1.0387 - accuracy: 0.5833 - val_loss: 0.4825 - val_accuracy: 0.8438\n",
      "Epoch 7/20\n",
      "1/1 - 0s - loss: 0.1851 - accuracy: 1.0000 - val_loss: 0.3198 - val_accuracy: 0.9062\n",
      "Epoch 8/20\n",
      "1/1 - 0s - loss: 0.1555 - accuracy: 1.0000 - val_loss: 0.3438 - val_accuracy: 0.8750\n",
      "Epoch 9/20\n",
      "1/1 - 1s - loss: 0.1544 - accuracy: 0.9375 - val_loss: 0.5478 - val_accuracy: 0.7188\n",
      "Epoch 10/20\n",
      "1/1 - 0s - loss: 0.3000 - accuracy: 0.9062 - val_loss: 0.5988 - val_accuracy: 0.6875\n",
      "Epoch 11/20\n",
      "1/1 - 0s - loss: 0.5174 - accuracy: 0.6667 - val_loss: 0.5589 - val_accuracy: 0.7500\n",
      "Epoch 12/20\n",
      "1/1 - 0s - loss: 0.1996 - accuracy: 0.9688 - val_loss: 0.3199 - val_accuracy: 0.9688\n",
      "Epoch 13/20\n",
      "1/1 - 0s - loss: 0.1124 - accuracy: 0.9688 - val_loss: 0.2692 - val_accuracy: 0.9062\n",
      "Epoch 14/20\n",
      "1/1 - 0s - loss: 0.0722 - accuracy: 1.0000 - val_loss: 0.2359 - val_accuracy: 0.9062\n",
      "Epoch 15/20\n",
      "1/1 - 0s - loss: 0.0946 - accuracy: 1.0000 - val_loss: 0.2716 - val_accuracy: 0.8438\n",
      "Epoch 16/20\n",
      "1/1 - 0s - loss: 0.0769 - accuracy: 1.0000 - val_loss: 0.1767 - val_accuracy: 1.0000\n",
      "Epoch 17/20\n",
      "1/1 - 0s - loss: 0.0533 - accuracy: 1.0000 - val_loss: 0.1320 - val_accuracy: 1.0000\n",
      "Epoch 18/20\n",
      "1/1 - 0s - loss: 0.0713 - accuracy: 1.0000 - val_loss: 0.1294 - val_accuracy: 0.9688\n",
      "Epoch 19/20\n",
      "1/1 - 0s - loss: 0.0216 - accuracy: 1.0000 - val_loss: 0.1433 - val_accuracy: 0.9688\n",
      "Epoch 20/20\n",
      "1/1 - 0s - loss: 0.0305 - accuracy: 1.0000 - val_loss: 0.1626 - val_accuracy: 0.9375\n"
     ]
    }
   ],
   "source": [
    "history = model.fit(training_set,\n",
    "                              validation_data=test_set,\n",
    "                              epochs=20,\n",
    "                              verbose=2,\n",
    "                              steps_per_epoch=len(training_set)/10,\n",
    "                              validation_steps=len(test_set)/10)"
   ]
  },
  {
   "cell_type": "code",
   "execution_count": 14,
   "metadata": {
    "execution": {
     "iopub.execute_input": "2020-08-10T16:51:21.123228Z",
     "iopub.status.busy": "2020-08-10T16:51:21.121753Z",
     "iopub.status.idle": "2020-08-10T16:51:21.507579Z",
     "shell.execute_reply": "2020-08-10T16:51:21.508183Z"
    },
    "papermill": {
     "duration": 0.450709,
     "end_time": "2020-08-10T16:51:21.508344",
     "exception": false,
     "start_time": "2020-08-10T16:51:21.057635",
     "status": "completed"
    },
    "tags": []
   },
   "outputs": [
    {
     "data": {
      "image/png": "[encoded data removed]",
      "text/plain": [
       "<Figure size 432x288 with 1 Axes>"
      ]
     },
     "metadata": {
      "needs_background": "light"
     },
     "output_type": "display_data"
    },
    {
     "data": {
      "image/png": "[encoded data removed]",
      "text/plain": [
       "<Figure size 432x288 with 1 Axes>"
      ]
     },
     "metadata": {
      "needs_background": "light"
     },
     "output_type": "display_data"
    }
   ],
   "source": [
    "# loss\n",
    "plt.plot(history.history['loss'], label='train loss')\n",
    "plt.plot(history.history['val_loss'], label='val loss')\n",
    "plt.legend()\n",
    "plt.show()\n",
    "\n",
    "# accuracies\n",
    "plt.plot(history.history['accuracy'], label='train acc')\n",
    "plt.plot(history.history['val_accuracy'], label='val acc')\n",
    "plt.legend()\n",
    "plt.show()\n"
   ]
  },
  {
   "cell_type": "code",
   "execution_count": 15,
   "metadata": {
    "execution": {
     "iopub.execute_input": "2020-08-10T16:51:21.609777Z",
     "iopub.status.busy": "2020-08-10T16:51:21.608752Z",
     "iopub.status.idle": "2020-08-10T16:51:21.712841Z",
     "shell.execute_reply": "2020-08-10T16:51:21.711597Z"
    },
    "papermill": {
     "duration": 0.160179,
     "end_time": "2020-08-10T16:51:21.712982",
     "exception": false,
     "start_time": "2020-08-10T16:51:21.552803",
     "status": "completed"
    },
    "tags": []
   },
   "outputs": [],
   "source": [
    "model.save(\"My-recognition-model.h5\")"
   ]
  },
  {
   "cell_type": "code",
   "execution_count": 16,
   "metadata": {},
   "outputs": [
    {
     "name": "stdout",
     "output_type": "stream",
     "text": [
      "1 Physical GPUs, 1 Logical GPU\n"
     ]
    }
   ],
   "source": [
    "import tensorflow as tf\n",
    "gpus = tf.config.experimental.list_physical_devices('GPU')\n",
    "if gpus:\n",
    "  # Restrict TensorFlow to only use the first GPU\n",
    "  try:\n",
    "    tf.config.experimental.set_visible_devices(gpus[0], 'GPU')\n",
    "    logical_gpus = tf.config.experimental.list_logical_devices('GPU')\n",
    "    print(len(gpus), \"Physical GPUs,\", len(logical_gpus), \"Logical GPU\")\n",
    "   except RuntimeError as e:\n",
    "    # Visible devices must be set before GPUs have been initialized\n",
    "    print(e)"
   ]
  },
  {
   "cell_type": "code",
   "execution_count": 17,
   "metadata": {},
   "outputs": [],
   "source": [
    "physical_devices = tf.config.list_physical_devices('GPU')\n",
    "try:\n",
    "    tf.config.experimental.set_memory_growth(physical_devices[0], True)\n",
    "except:\n",
    "  # Invalid device or cannot modify virtual devices once initialized.\n",
    "  pass"
   ]
  },
  {
   "cell_type": "code",
   "execution_count": 27,
   "metadata": {
    "papermill": {
     "duration": 0.046224,
     "end_time": "2020-08-10T16:51:21.803111",
     "exception": false,
     "start_time": "2020-08-10T16:51:21.756887",
     "status": "completed"
    },
    "tags": []
   },
   "outputs": [
    {
     "name": "stdout",
     "output_type": "stream",
     "text": [
      "[1.0000000e+00 1.6168407e-27 0.0000000e+00]\n"
     ]
    }
   ],
   "source": [
    "from tensorflow.keras.preprocessing.image import load_img\n",
    "from tensorflow.keras.preprocessing.image import img_to_array\n",
    "from tensorflow.keras.models import load_model\n",
    "\n",
    "def load_image(filename):\n",
    "    img = load_img(filename, target_size=(224, 224))\n",
    "    img = img_to_array(img)\n",
    "    img = img.reshape(1, 224, 224, 3)\n",
    "    img = img.astype('float32')\n",
    "    return img\n",
    "\n",
    "def run_example(path):\n",
    "    img = load_image(path)\n",
    "    # load model\n",
    "    model = load_model('My-recognition-model.h5')\n",
    "    # predict the class\n",
    "    result = model.predict(img)\n",
    "    print(result[0])\n",
    "\n",
    "# entry point, run the example\n",
    "run_example('C:\\\\Users\\\\Aakash Babu\\\\Pictures\\\\Camera Roll\\\\ak.jpg')"
   ]
  }
 ],
 "metadata": {
  "kernelspec": {
   "display_name": "Python 3",
   "language": "python",
   "name": "python3"
  },
  "language_info": {
   "codemirror_mode": {
    "name": "ipython",
    "version": 3
   },
   "file_extension": ".py",
   "mimetype": "text/x-python",
   "name": "python",
   "nbconvert_exporter": "python",
   "pygments_lexer": "ipython3",
   "version": "3.6.10"
  },
  "papermill": {
   "duration": 51.860853,
   "end_time": "2020-08-10T16:51:23.243121",
   "environment_variables": {},
   "exception": null,
   "input_path": "__notebook__.ipynb",
   "output_path": "__notebook__.ipynb",
   "parameters": {},
   "start_time": "2020-08-10T16:50:31.382268",
   "version": "2.1.0"
  }
 },
 "nbformat": 4,
 "nbformat_minor": 4
}
